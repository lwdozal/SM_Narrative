runnable example (executable Jupyter notebook)
